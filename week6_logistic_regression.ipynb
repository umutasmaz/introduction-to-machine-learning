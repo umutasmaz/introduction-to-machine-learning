{
  "cells": [
    {
      "cell_type": "markdown",
      "metadata": {
        "id": "view-in-github",
        "colab_type": "text"
      },
      "source": [
        "<a href=\"https://colab.research.google.com/github/umutasmaz/introduction-to-machine-learning/blob/main/week6_logistic_regression.ipynb\" target=\"_parent\"><img src=\"https://colab.research.google.com/assets/colab-badge.svg\" alt=\"Open In Colab\"/></a>"
      ]
    },
    {
      "cell_type": "markdown",
      "metadata": {
        "id": "5Ar1bkLnBzp3"
      },
      "source": [
        "# Understanding Logistic Regression in Python\n",
        "**Source: https://www.datacamp.com/community/tutorials/understanding-logistic-regression-python\n",
        "\n",
        "**Learn about Logistic Regression, its basic properties, and build a machine learning model on a real-world application in Python.**"
      ],
      "id": "5Ar1bkLnBzp3"
    },
    {
      "cell_type": "markdown",
      "metadata": {
        "id": "pmc7TWnWBzp-"
      },
      "source": [
        "Classification techniques are an essential part of machine learning and data mining applications. Approximately 70% of problems in Data Science are classification problems. There are lots of classification problems that are available, but the logistics regression is common and is a useful regression method for solving the binary classification problem. Another category of classification is Multinomial classification, which handles the issues where multiple classes are present in the target variable. For example, IRIS dataset a very famous example of multi-class classification. Other examples are classifying article/blog/document category.\n",
        "\n",
        "Logistic Regression can be used for various classification problems such as spam detection. Diabetes prediction, if a given customer will purchase a particular product or will they churn another competitor, whether the user will click on a given advertisement link or not, and many more examples are in the bucket.\n",
        "\n",
        "Logistic Regression is one of the most simple and commonly used Machine Learning algorithms for two-class classification. It is easy to implement and can be used as the baseline for any binary classification problem. Its basic fundamental concepts are also constructive in deep learning. Logistic regression describes and estimates the relationship between one dependent binary variable and independent variables.\n",
        "\n",
        "In this tutorial, you will learn the following things in Logistic Regression:\n",
        "* Introduction to Logistic Regression\n",
        "* Linear Regression Vs. Logistic Regression\n",
        "* Maximum Likelihood Estimation Vs. Ordinary Least Square Method\n",
        "* How do Logistic Regression works?\n",
        "* Model building in Scikit-learn\n",
        "* Model Evaluation using Confusion Matrix.\n",
        "* Advantages and Disadvantages of Logistic Regression\n",
        "\n",
        "### Logistic Regression\n",
        "\n",
        "Logistic regression is a statistical method for predicting binary classes.  The outcome or target variable is dichotomous in nature. Dichotomous means there are only two possible classes. For example, it can be used for cancer detection problems. It computes the probability of an event occurrence.\n",
        "\n",
        "It is a special case of linear regression where the target variable is categorical in nature. It uses a log of odds as the dependent variable. Logistic Regression predicts the probability of occurrence of a binary event utilizing a logit function.\n",
        "\n",
        "Linear Regression Equation:\n",
        "\n"
      ],
      "id": "pmc7TWnWBzp-"
    },
    {
      "cell_type": "markdown",
      "metadata": {
        "id": "wJNQsEWcBzp_"
      },
      "source": [
        "$$\n",
        "y = \\beta_0 + \\beta_1 X_1 + \\beta_2X_2+ \\text{.....} + \\beta_nX_n\n",
        "$$"
      ],
      "id": "wJNQsEWcBzp_"
    },
    {
      "cell_type": "markdown",
      "metadata": {
        "id": "q-6aom0pBzqA"
      },
      "source": [
        "\n",
        "Where, y is dependent variable and x1, x2 ... and Xn are explanatory variables.\n",
        "\n",
        "Sigmoid Function:\n",
        "\n"
      ],
      "id": "q-6aom0pBzqA"
    },
    {
      "cell_type": "markdown",
      "metadata": {
        "id": "WcTlN96_BzqB"
      },
      "source": [
        "$$\n",
        "p = \\frac{1}{1+e^{-y}}\n",
        "$$"
      ],
      "id": "WcTlN96_BzqB"
    },
    {
      "cell_type": "markdown",
      "metadata": {
        "id": "XBIldxLuBzqB"
      },
      "source": [
        "Apply Sigmoid function on linear regression:"
      ],
      "id": "XBIldxLuBzqB"
    },
    {
      "cell_type": "markdown",
      "metadata": {
        "id": "2YrBW3kBBzqB"
      },
      "source": [
        "$$ \n",
        "p = \\frac{1}{1+e^{-(\\beta_0 + \\beta_1 X_1 + \\beta_2 X_2+ \\text{.....} + \\beta_nX_n)}}\n",
        "$$"
      ],
      "id": "2YrBW3kBBzqB"
    },
    {
      "cell_type": "markdown",
      "metadata": {
        "id": "b4-66qIzBzqC"
      },
      "source": [
        "Properties of Logistic Regression:\n",
        "\n",
        "* The dependent variable in logistic regression follows Bernoulli Distribution.\n",
        "* Estimation is done through maximum likelihood.\n",
        "* No R Square, Model fitness is calculated through Concordance, KS-Statistics.\n",
        "\n",
        "### Linear Regression Vs. Logistic Regression\n",
        "\n",
        "Linear regression gives you a continuous output, but logistic regression provides a constant output. An example of the continuous output is house price and stock price. Example's of the discrete output is predicting whether a patient has cancer or not, predicting whether the customer will churn. Linear regression is estimated using Ordinary Least Squares (OLS) while logistic regression is estimated using Maximum Likelihood Estimation (MLE) approach.\n",
        "\n"
      ],
      "id": "b4-66qIzBzqC"
    },
    {
      "cell_type": "markdown",
      "metadata": {
        "id": "dvI3lUatBzqD"
      },
      "source": [
        "![linear regression vs logistic regression](figure1.png)"
      ],
      "id": "dvI3lUatBzqD"
    },
    {
      "cell_type": "markdown",
      "metadata": {
        "id": "ueK21xR-BzqE"
      },
      "source": [
        "\n",
        "### Maximum Likelihood Estimation Vs. Least Square Method\n",
        "\n",
        "The MLE is a \"likelihood\" maximization method, while OLS is a distance-minimizing approximation method. Maximizing the likelihood function determines the parameters that are most likely to produce the observed data. From a statistical point of view, MLE sets the mean and variance as parameters in determining the specific parametric values for a given model. This set of parameters can be used for predicting the data needed in a normal distribution.\n",
        "\n",
        "Ordinary Least squares estimates are computed by fitting a regression line on given data points that has the minimum sum of the squared deviations (least square error). Both are used to estimate the parameters of a linear regression model. MLE assumes a joint probability mass function, while OLS doesn't require any stochastic assumptions for minimizing distance.\n",
        "\n",
        "### Sigmoid Function\n",
        "\n",
        "The sigmoid function, also called logistic function gives an ‘S’ shaped curve that can take any real-valued number and map it into a value between 0 and 1. If the curve goes to positive infinity, y predicted will become 1, and if the curve goes to negative infinity, y predicted will become 0. If the output of the sigmoid function is more than 0.5,  we can classify the outcome as 1 or YES, and if it is less than 0.5, we can classify it as 0 or NO. If the output is 0.75, we cannot say in terms of probability: There is a 75 percent chance that patient will suffer from cancer.\n",
        "\n"
      ],
      "id": "ueK21xR-BzqE"
    },
    {
      "cell_type": "markdown",
      "metadata": {
        "id": "SKwxjsL_BzqE"
      },
      "source": [
        "$$ \n",
        "f(x) = \\frac{1}{1= e^{-x}}\n",
        "$$\n",
        "\n",
        "![sigmoid function](figure2.png)"
      ],
      "id": "SKwxjsL_BzqE"
    },
    {
      "cell_type": "markdown",
      "metadata": {
        "id": "ywvq9bg_BzqE"
      },
      "source": [
        "### Types of Logistic Regression\n",
        "\n",
        "Types of Logistic Regression:\n",
        "* Binary Logistic Regression: The target variable has only two possible outcomes such as Spam or Not Spam, Cancer or No Cancer.\n",
        "* Multinomial Logistic Regression: The target variable has three or more nominal categories such as predicting the type of Wine.\n",
        "* Ordinal Logistic Regression: the target variable has three or more ordinal categories such as restaurant or product rating from 1 to 5.\n",
        "\n",
        "### Model building in Scikit-learn\n",
        "\n",
        "Let's build the diabetes prediction model.\n",
        "\n",
        "Here, you are going to predict diabetes using Logistic Regression Classifier.\n",
        "\n",
        "Let's first load the required Pima Indian Diabetes dataset using the pandas' read CSV function. You can download data from the following link: https://www.kaggle.com/uciml/pima-indians-diabetes-database\n",
        "\n",
        "#### Loading Data\n"
      ],
      "id": "ywvq9bg_BzqE"
    },
    {
      "cell_type": "code",
      "execution_count": 1,
      "metadata": {
        "lines_to_next_cell": 2,
        "id": "SNQxr5EZBzqF"
      },
      "outputs": [],
      "source": [
        "#import pandas\n",
        "import pandas as pd\n",
        "\n",
        "col_names = ['pregnant', 'glucose', 'bp', 'skin', 'insulin', 'bmi', 'pedigree', 'age', 'label']\n",
        "\n",
        "# load dataset\n",
        "pima = pd.read_csv(\"diabetes.csv\", header=1, names=col_names)"
      ],
      "id": "SNQxr5EZBzqF"
    },
    {
      "cell_type": "code",
      "execution_count": 2,
      "metadata": {
        "colab": {
          "base_uri": "https://localhost:8080/",
          "height": 206
        },
        "id": "ZSqPi_JlBzqG",
        "outputId": "2f7f7503-f95d-443d-cf47-0bb720908af6"
      },
      "outputs": [
        {
          "output_type": "execute_result",
          "data": {
            "text/plain": [
              "   pregnant  glucose  bp  skin  insulin   bmi  pedigree  age  label\n",
              "0         1       85  66    29        0  26.6     0.351   31      0\n",
              "1         8      183  64     0        0  23.3     0.672   32      1\n",
              "2         1       89  66    23       94  28.1     0.167   21      0\n",
              "3         0      137  40    35      168  43.1     2.288   33      1\n",
              "4         5      116  74     0        0  25.6     0.201   30      0"
            ],
            "text/html": [
              "\n",
              "  <div id=\"df-3bea0121-707e-4ded-9836-437938146973\">\n",
              "    <div class=\"colab-df-container\">\n",
              "      <div>\n",
              "<style scoped>\n",
              "    .dataframe tbody tr th:only-of-type {\n",
              "        vertical-align: middle;\n",
              "    }\n",
              "\n",
              "    .dataframe tbody tr th {\n",
              "        vertical-align: top;\n",
              "    }\n",
              "\n",
              "    .dataframe thead th {\n",
              "        text-align: right;\n",
              "    }\n",
              "</style>\n",
              "<table border=\"1\" class=\"dataframe\">\n",
              "  <thead>\n",
              "    <tr style=\"text-align: right;\">\n",
              "      <th></th>\n",
              "      <th>pregnant</th>\n",
              "      <th>glucose</th>\n",
              "      <th>bp</th>\n",
              "      <th>skin</th>\n",
              "      <th>insulin</th>\n",
              "      <th>bmi</th>\n",
              "      <th>pedigree</th>\n",
              "      <th>age</th>\n",
              "      <th>label</th>\n",
              "    </tr>\n",
              "  </thead>\n",
              "  <tbody>\n",
              "    <tr>\n",
              "      <th>0</th>\n",
              "      <td>1</td>\n",
              "      <td>85</td>\n",
              "      <td>66</td>\n",
              "      <td>29</td>\n",
              "      <td>0</td>\n",
              "      <td>26.6</td>\n",
              "      <td>0.351</td>\n",
              "      <td>31</td>\n",
              "      <td>0</td>\n",
              "    </tr>\n",
              "    <tr>\n",
              "      <th>1</th>\n",
              "      <td>8</td>\n",
              "      <td>183</td>\n",
              "      <td>64</td>\n",
              "      <td>0</td>\n",
              "      <td>0</td>\n",
              "      <td>23.3</td>\n",
              "      <td>0.672</td>\n",
              "      <td>32</td>\n",
              "      <td>1</td>\n",
              "    </tr>\n",
              "    <tr>\n",
              "      <th>2</th>\n",
              "      <td>1</td>\n",
              "      <td>89</td>\n",
              "      <td>66</td>\n",
              "      <td>23</td>\n",
              "      <td>94</td>\n",
              "      <td>28.1</td>\n",
              "      <td>0.167</td>\n",
              "      <td>21</td>\n",
              "      <td>0</td>\n",
              "    </tr>\n",
              "    <tr>\n",
              "      <th>3</th>\n",
              "      <td>0</td>\n",
              "      <td>137</td>\n",
              "      <td>40</td>\n",
              "      <td>35</td>\n",
              "      <td>168</td>\n",
              "      <td>43.1</td>\n",
              "      <td>2.288</td>\n",
              "      <td>33</td>\n",
              "      <td>1</td>\n",
              "    </tr>\n",
              "    <tr>\n",
              "      <th>4</th>\n",
              "      <td>5</td>\n",
              "      <td>116</td>\n",
              "      <td>74</td>\n",
              "      <td>0</td>\n",
              "      <td>0</td>\n",
              "      <td>25.6</td>\n",
              "      <td>0.201</td>\n",
              "      <td>30</td>\n",
              "      <td>0</td>\n",
              "    </tr>\n",
              "  </tbody>\n",
              "</table>\n",
              "</div>\n",
              "      <button class=\"colab-df-convert\" onclick=\"convertToInteractive('df-3bea0121-707e-4ded-9836-437938146973')\"\n",
              "              title=\"Convert this dataframe to an interactive table.\"\n",
              "              style=\"display:none;\">\n",
              "        \n",
              "  <svg xmlns=\"http://www.w3.org/2000/svg\" height=\"24px\"viewBox=\"0 0 24 24\"\n",
              "       width=\"24px\">\n",
              "    <path d=\"M0 0h24v24H0V0z\" fill=\"none\"/>\n",
              "    <path d=\"M18.56 5.44l.94 2.06.94-2.06 2.06-.94-2.06-.94-.94-2.06-.94 2.06-2.06.94zm-11 1L8.5 8.5l.94-2.06 2.06-.94-2.06-.94L8.5 2.5l-.94 2.06-2.06.94zm10 10l.94 2.06.94-2.06 2.06-.94-2.06-.94-.94-2.06-.94 2.06-2.06.94z\"/><path d=\"M17.41 7.96l-1.37-1.37c-.4-.4-.92-.59-1.43-.59-.52 0-1.04.2-1.43.59L10.3 9.45l-7.72 7.72c-.78.78-.78 2.05 0 2.83L4 21.41c.39.39.9.59 1.41.59.51 0 1.02-.2 1.41-.59l7.78-7.78 2.81-2.81c.8-.78.8-2.07 0-2.86zM5.41 20L4 18.59l7.72-7.72 1.47 1.35L5.41 20z\"/>\n",
              "  </svg>\n",
              "      </button>\n",
              "      \n",
              "  <style>\n",
              "    .colab-df-container {\n",
              "      display:flex;\n",
              "      flex-wrap:wrap;\n",
              "      gap: 12px;\n",
              "    }\n",
              "\n",
              "    .colab-df-convert {\n",
              "      background-color: #E8F0FE;\n",
              "      border: none;\n",
              "      border-radius: 50%;\n",
              "      cursor: pointer;\n",
              "      display: none;\n",
              "      fill: #1967D2;\n",
              "      height: 32px;\n",
              "      padding: 0 0 0 0;\n",
              "      width: 32px;\n",
              "    }\n",
              "\n",
              "    .colab-df-convert:hover {\n",
              "      background-color: #E2EBFA;\n",
              "      box-shadow: 0px 1px 2px rgba(60, 64, 67, 0.3), 0px 1px 3px 1px rgba(60, 64, 67, 0.15);\n",
              "      fill: #174EA6;\n",
              "    }\n",
              "\n",
              "    [theme=dark] .colab-df-convert {\n",
              "      background-color: #3B4455;\n",
              "      fill: #D2E3FC;\n",
              "    }\n",
              "\n",
              "    [theme=dark] .colab-df-convert:hover {\n",
              "      background-color: #434B5C;\n",
              "      box-shadow: 0px 1px 3px 1px rgba(0, 0, 0, 0.15);\n",
              "      filter: drop-shadow(0px 1px 2px rgba(0, 0, 0, 0.3));\n",
              "      fill: #FFFFFF;\n",
              "    }\n",
              "  </style>\n",
              "\n",
              "      <script>\n",
              "        const buttonEl =\n",
              "          document.querySelector('#df-3bea0121-707e-4ded-9836-437938146973 button.colab-df-convert');\n",
              "        buttonEl.style.display =\n",
              "          google.colab.kernel.accessAllowed ? 'block' : 'none';\n",
              "\n",
              "        async function convertToInteractive(key) {\n",
              "          const element = document.querySelector('#df-3bea0121-707e-4ded-9836-437938146973');\n",
              "          const dataTable =\n",
              "            await google.colab.kernel.invokeFunction('convertToInteractive',\n",
              "                                                     [key], {});\n",
              "          if (!dataTable) return;\n",
              "\n",
              "          const docLinkHtml = 'Like what you see? Visit the ' +\n",
              "            '<a target=\"_blank\" href=https://colab.research.google.com/notebooks/data_table.ipynb>data table notebook</a>'\n",
              "            + ' to learn more about interactive tables.';\n",
              "          element.innerHTML = '';\n",
              "          dataTable['output_type'] = 'display_data';\n",
              "          await google.colab.output.renderOutput(dataTable, element);\n",
              "          const docLink = document.createElement('div');\n",
              "          docLink.innerHTML = docLinkHtml;\n",
              "          element.appendChild(docLink);\n",
              "        }\n",
              "      </script>\n",
              "    </div>\n",
              "  </div>\n",
              "  "
            ]
          },
          "metadata": {},
          "execution_count": 2
        }
      ],
      "source": [
        "pima.head()"
      ],
      "id": "ZSqPi_JlBzqG"
    },
    {
      "cell_type": "markdown",
      "metadata": {
        "id": "uAmiJ1kNBzqG"
      },
      "source": [
        "#### Selecting Feature\n",
        "\n",
        "Here, you need to divide the given columns into two types of variables dependent(or target variable) and independent variable(or feature variables).\n"
      ],
      "id": "uAmiJ1kNBzqG"
    },
    {
      "cell_type": "code",
      "execution_count": 3,
      "metadata": {
        "id": "06NrZ0ssBzqH"
      },
      "outputs": [],
      "source": [
        "#split dataset in features and target variable\n",
        "feature_cols = ['pregnant', 'insulin', 'bmi', 'age','glucose','bp','pedigree']\n",
        "X = pima[feature_cols] # Features\n",
        "y = pima.label # Target variable"
      ],
      "id": "06NrZ0ssBzqH"
    },
    {
      "cell_type": "markdown",
      "metadata": {
        "id": "c_QkReWsBzqH"
      },
      "source": [
        "#### Splitting Data\n",
        "\n",
        "To understand model performance, dividing the dataset into a training set and a test set is a good strategy.\n",
        "\n",
        "Let's split dataset by using function train_test_split(). You need to pass 3 parameters features, target, and test_set size. Additionally, you can use random_state to select records randomly.\n"
      ],
      "id": "c_QkReWsBzqH"
    },
    {
      "cell_type": "code",
      "execution_count": 4,
      "metadata": {
        "id": "6YWrI4RiBzqH"
      },
      "outputs": [],
      "source": [
        "# split X and y into training and testing sets\n",
        "from sklearn.model_selection import train_test_split\n",
        "\n",
        "X_train, X_test, y_train, y_test = train_test_split(X, y, test_size=0.25, random_state=0)"
      ],
      "id": "6YWrI4RiBzqH"
    },
    {
      "cell_type": "markdown",
      "metadata": {
        "id": "ZiEiJVzJBzqH"
      },
      "source": [
        "Here, the Dataset is broken into two parts in a ratio of 75:25. It means 75% data will be used for model training and 25% for model testing.\n",
        "\n",
        "#### Model Development and Prediction\n",
        "\n",
        "First, import the Logistic Regression module and create a Logistic Regression classifier object using LogisticRegression() function.\n",
        "\n",
        "Then, fit your model on the train set using fit() and perform prediction on the test set using predict().\n"
      ],
      "id": "ZiEiJVzJBzqH"
    },
    {
      "cell_type": "code",
      "execution_count": 5,
      "metadata": {
        "colab": {
          "base_uri": "https://localhost:8080/",
          "height": 206
        },
        "id": "RvxV8_r3BzqI",
        "outputId": "e108f2d4-2acc-414a-d34d-04292727ff00"
      },
      "outputs": [
        {
          "output_type": "execute_result",
          "data": {
            "text/plain": [
              "   pregnant  insulin   bmi  age  glucose  bp  pedigree\n",
              "0         1        0  26.6   31       85  66     0.351\n",
              "1         8        0  23.3   32      183  64     0.672\n",
              "2         1       94  28.1   21       89  66     0.167\n",
              "3         0      168  43.1   33      137  40     2.288\n",
              "4         5        0  25.6   30      116  74     0.201"
            ],
            "text/html": [
              "\n",
              "  <div id=\"df-0f8d08ac-6f60-4a4d-ae7d-b8cb262cc449\">\n",
              "    <div class=\"colab-df-container\">\n",
              "      <div>\n",
              "<style scoped>\n",
              "    .dataframe tbody tr th:only-of-type {\n",
              "        vertical-align: middle;\n",
              "    }\n",
              "\n",
              "    .dataframe tbody tr th {\n",
              "        vertical-align: top;\n",
              "    }\n",
              "\n",
              "    .dataframe thead th {\n",
              "        text-align: right;\n",
              "    }\n",
              "</style>\n",
              "<table border=\"1\" class=\"dataframe\">\n",
              "  <thead>\n",
              "    <tr style=\"text-align: right;\">\n",
              "      <th></th>\n",
              "      <th>pregnant</th>\n",
              "      <th>insulin</th>\n",
              "      <th>bmi</th>\n",
              "      <th>age</th>\n",
              "      <th>glucose</th>\n",
              "      <th>bp</th>\n",
              "      <th>pedigree</th>\n",
              "    </tr>\n",
              "  </thead>\n",
              "  <tbody>\n",
              "    <tr>\n",
              "      <th>0</th>\n",
              "      <td>1</td>\n",
              "      <td>0</td>\n",
              "      <td>26.6</td>\n",
              "      <td>31</td>\n",
              "      <td>85</td>\n",
              "      <td>66</td>\n",
              "      <td>0.351</td>\n",
              "    </tr>\n",
              "    <tr>\n",
              "      <th>1</th>\n",
              "      <td>8</td>\n",
              "      <td>0</td>\n",
              "      <td>23.3</td>\n",
              "      <td>32</td>\n",
              "      <td>183</td>\n",
              "      <td>64</td>\n",
              "      <td>0.672</td>\n",
              "    </tr>\n",
              "    <tr>\n",
              "      <th>2</th>\n",
              "      <td>1</td>\n",
              "      <td>94</td>\n",
              "      <td>28.1</td>\n",
              "      <td>21</td>\n",
              "      <td>89</td>\n",
              "      <td>66</td>\n",
              "      <td>0.167</td>\n",
              "    </tr>\n",
              "    <tr>\n",
              "      <th>3</th>\n",
              "      <td>0</td>\n",
              "      <td>168</td>\n",
              "      <td>43.1</td>\n",
              "      <td>33</td>\n",
              "      <td>137</td>\n",
              "      <td>40</td>\n",
              "      <td>2.288</td>\n",
              "    </tr>\n",
              "    <tr>\n",
              "      <th>4</th>\n",
              "      <td>5</td>\n",
              "      <td>0</td>\n",
              "      <td>25.6</td>\n",
              "      <td>30</td>\n",
              "      <td>116</td>\n",
              "      <td>74</td>\n",
              "      <td>0.201</td>\n",
              "    </tr>\n",
              "  </tbody>\n",
              "</table>\n",
              "</div>\n",
              "      <button class=\"colab-df-convert\" onclick=\"convertToInteractive('df-0f8d08ac-6f60-4a4d-ae7d-b8cb262cc449')\"\n",
              "              title=\"Convert this dataframe to an interactive table.\"\n",
              "              style=\"display:none;\">\n",
              "        \n",
              "  <svg xmlns=\"http://www.w3.org/2000/svg\" height=\"24px\"viewBox=\"0 0 24 24\"\n",
              "       width=\"24px\">\n",
              "    <path d=\"M0 0h24v24H0V0z\" fill=\"none\"/>\n",
              "    <path d=\"M18.56 5.44l.94 2.06.94-2.06 2.06-.94-2.06-.94-.94-2.06-.94 2.06-2.06.94zm-11 1L8.5 8.5l.94-2.06 2.06-.94-2.06-.94L8.5 2.5l-.94 2.06-2.06.94zm10 10l.94 2.06.94-2.06 2.06-.94-2.06-.94-.94-2.06-.94 2.06-2.06.94z\"/><path d=\"M17.41 7.96l-1.37-1.37c-.4-.4-.92-.59-1.43-.59-.52 0-1.04.2-1.43.59L10.3 9.45l-7.72 7.72c-.78.78-.78 2.05 0 2.83L4 21.41c.39.39.9.59 1.41.59.51 0 1.02-.2 1.41-.59l7.78-7.78 2.81-2.81c.8-.78.8-2.07 0-2.86zM5.41 20L4 18.59l7.72-7.72 1.47 1.35L5.41 20z\"/>\n",
              "  </svg>\n",
              "      </button>\n",
              "      \n",
              "  <style>\n",
              "    .colab-df-container {\n",
              "      display:flex;\n",
              "      flex-wrap:wrap;\n",
              "      gap: 12px;\n",
              "    }\n",
              "\n",
              "    .colab-df-convert {\n",
              "      background-color: #E8F0FE;\n",
              "      border: none;\n",
              "      border-radius: 50%;\n",
              "      cursor: pointer;\n",
              "      display: none;\n",
              "      fill: #1967D2;\n",
              "      height: 32px;\n",
              "      padding: 0 0 0 0;\n",
              "      width: 32px;\n",
              "    }\n",
              "\n",
              "    .colab-df-convert:hover {\n",
              "      background-color: #E2EBFA;\n",
              "      box-shadow: 0px 1px 2px rgba(60, 64, 67, 0.3), 0px 1px 3px 1px rgba(60, 64, 67, 0.15);\n",
              "      fill: #174EA6;\n",
              "    }\n",
              "\n",
              "    [theme=dark] .colab-df-convert {\n",
              "      background-color: #3B4455;\n",
              "      fill: #D2E3FC;\n",
              "    }\n",
              "\n",
              "    [theme=dark] .colab-df-convert:hover {\n",
              "      background-color: #434B5C;\n",
              "      box-shadow: 0px 1px 3px 1px rgba(0, 0, 0, 0.15);\n",
              "      filter: drop-shadow(0px 1px 2px rgba(0, 0, 0, 0.3));\n",
              "      fill: #FFFFFF;\n",
              "    }\n",
              "  </style>\n",
              "\n",
              "      <script>\n",
              "        const buttonEl =\n",
              "          document.querySelector('#df-0f8d08ac-6f60-4a4d-ae7d-b8cb262cc449 button.colab-df-convert');\n",
              "        buttonEl.style.display =\n",
              "          google.colab.kernel.accessAllowed ? 'block' : 'none';\n",
              "\n",
              "        async function convertToInteractive(key) {\n",
              "          const element = document.querySelector('#df-0f8d08ac-6f60-4a4d-ae7d-b8cb262cc449');\n",
              "          const dataTable =\n",
              "            await google.colab.kernel.invokeFunction('convertToInteractive',\n",
              "                                                     [key], {});\n",
              "          if (!dataTable) return;\n",
              "\n",
              "          const docLinkHtml = 'Like what you see? Visit the ' +\n",
              "            '<a target=\"_blank\" href=https://colab.research.google.com/notebooks/data_table.ipynb>data table notebook</a>'\n",
              "            + ' to learn more about interactive tables.';\n",
              "          element.innerHTML = '';\n",
              "          dataTable['output_type'] = 'display_data';\n",
              "          await google.colab.output.renderOutput(dataTable, element);\n",
              "          const docLink = document.createElement('div');\n",
              "          docLink.innerHTML = docLinkHtml;\n",
              "          element.appendChild(docLink);\n",
              "        }\n",
              "      </script>\n",
              "    </div>\n",
              "  </div>\n",
              "  "
            ]
          },
          "metadata": {},
          "execution_count": 5
        }
      ],
      "source": [
        "X.head()"
      ],
      "id": "RvxV8_r3BzqI"
    },
    {
      "cell_type": "code",
      "execution_count": 6,
      "metadata": {
        "colab": {
          "base_uri": "https://localhost:8080/"
        },
        "id": "t7YHJoyRBzqI",
        "outputId": "8533bcf8-599b-4912-8a0c-9afaf391f4e6"
      },
      "outputs": [
        {
          "output_type": "stream",
          "name": "stderr",
          "text": [
            "/usr/local/lib/python3.7/dist-packages/sklearn/linear_model/_logistic.py:818: ConvergenceWarning: lbfgs failed to converge (status=1):\n",
            "STOP: TOTAL NO. of ITERATIONS REACHED LIMIT.\n",
            "\n",
            "Increase the number of iterations (max_iter) or scale the data as shown in:\n",
            "    https://scikit-learn.org/stable/modules/preprocessing.html\n",
            "Please also refer to the documentation for alternative solver options:\n",
            "    https://scikit-learn.org/stable/modules/linear_model.html#logistic-regression\n",
            "  extra_warning_msg=_LOGISTIC_SOLVER_CONVERGENCE_MSG,\n"
          ]
        }
      ],
      "source": [
        "# import the class\n",
        "from sklearn.linear_model import LogisticRegression\n",
        "\n",
        "# instantiate the model (using the default parameters)\n",
        "logreg = LogisticRegression()\n",
        "\n",
        "# fit the model with data\n",
        "logreg.fit(X_train, y_train)\n",
        "\n",
        "y_pred = logreg.predict(X_test)"
      ],
      "id": "t7YHJoyRBzqI"
    },
    {
      "cell_type": "markdown",
      "metadata": {
        "id": "kK1UnHjuBzqI"
      },
      "source": [
        "### Model Evaluation using Confusion Matrix\n",
        "\n",
        "A confusion matrix is a table that is used to evaluate the performance of a classification model. You can also visualize the performance of an algorithm. The fundamental of a confusion matrix is the number of correct and incorrect predictions are summed up class-wise.\n"
      ],
      "id": "kK1UnHjuBzqI"
    },
    {
      "cell_type": "code",
      "execution_count": 7,
      "metadata": {
        "lines_to_next_cell": 0,
        "colab": {
          "base_uri": "https://localhost:8080/"
        },
        "id": "XEwfN_EXBzqJ",
        "outputId": "efa7beb9-91ff-4660-e7f1-986b1a916096"
      },
      "outputs": [
        {
          "output_type": "execute_result",
          "data": {
            "text/plain": [
              "array([[118,  13],\n",
              "       [ 26,  35]])"
            ]
          },
          "metadata": {},
          "execution_count": 7
        }
      ],
      "source": [
        "# import the metrics class\n",
        "from sklearn import metrics\n",
        "\n",
        "cnf_matrix = metrics.confusion_matrix(y_test, y_pred)\n",
        "cnf_matrix"
      ],
      "id": "XEwfN_EXBzqJ"
    },
    {
      "cell_type": "markdown",
      "metadata": {
        "id": "-SqewAruBzqJ"
      },
      "source": [
        "Here, you can see the confusion matrix in the form of the array object. The dimension of this matrix is 2*2 because this model is binary classification. You have two classes 0 and 1. Diagonal values represent accurate predictions, while non-diagonal elements are inaccurate predictions. In the output, 119 and 36 are actual predictions, and 26 and 11 are incorrect predictions.  \n",
        "\n",
        "#### Visualizing Confusion Matrix using Heatmap\n",
        "\n",
        "Let's visualize the results of the model in the form of a confusion matrix using matplotlib and seaborn.\n",
        "\n",
        "Here, you will visualize the confusion matrix using Heatmap.\n"
      ],
      "id": "-SqewAruBzqJ"
    },
    {
      "cell_type": "code",
      "execution_count": 8,
      "metadata": {
        "lines_to_next_cell": 2,
        "id": "uhqzKWErBzqJ"
      },
      "outputs": [],
      "source": [
        "# import required modules\n",
        "import numpy as np\n",
        "import matplotlib.pyplot as plt\n",
        "import seaborn as sns\n",
        "%matplotlib inline"
      ],
      "id": "uhqzKWErBzqJ"
    },
    {
      "cell_type": "code",
      "execution_count": 9,
      "metadata": {
        "lines_to_next_cell": 0,
        "colab": {
          "base_uri": "https://localhost:8080/",
          "height": 342
        },
        "id": "Vgxxh93yBzqJ",
        "outputId": "34051603-f310-4e86-8daf-2c52d5cd1fa4"
      },
      "outputs": [
        {
          "output_type": "execute_result",
          "data": {
            "text/plain": [
              "Text(0.5, 257.44, 'Predicted label')"
            ]
          },
          "metadata": {},
          "execution_count": 9
        },
        {
          "output_type": "display_data",
          "data": {
            "text/plain": [
              "<Figure size 432x288 with 2 Axes>"
            ],
            "image/png": "[encoded data removed]"
          },
          "metadata": {
            "needs_background": "light"
          }
        }
      ],
      "source": [
        "class_names = [0,1] # name  of classes\n",
        "fig, ax = plt.subplots()\n",
        "tick_marks = np.arange(len(class_names))\n",
        "plt.xticks(tick_marks, class_names)\n",
        "plt.yticks(tick_marks, class_names)\n",
        "\n",
        "# create heatmap\n",
        "sns.heatmap(pd.DataFrame(cnf_matrix), annot=True, cmap=\"YlGnBu\" ,fmt='g')\n",
        "ax.xaxis.set_label_position(\"top\")\n",
        "plt.tight_layout()\n",
        "plt.title('Confusion matrix', y=1.1)\n",
        "plt.ylabel('Actual label')\n",
        "plt.xlabel('Predicted label')"
      ],
      "id": "Vgxxh93yBzqJ"
    },
    {
      "cell_type": "markdown",
      "metadata": {
        "id": "ef_kqXn7BzqK"
      },
      "source": [
        "#### Confusion Matrix Evaluation Metrics\n",
        "\n",
        "Let's evaluate the model using model evaluation metrics such as accuracy, precision, and recall.\n"
      ],
      "id": "ef_kqXn7BzqK"
    },
    {
      "cell_type": "code",
      "execution_count": 10,
      "metadata": {
        "colab": {
          "base_uri": "https://localhost:8080/"
        },
        "id": "x0aiT74iBzqK",
        "outputId": "477a903f-7739-4057-8671-10a44d598360"
      },
      "outputs": [
        {
          "output_type": "stream",
          "name": "stdout",
          "text": [
            "Accuracy: 0.796875\n",
            "Precision: 0.7291666666666666\n",
            "Recall: 0.5737704918032787\n"
          ]
        }
      ],
      "source": [
        "print(\"Accuracy:\", metrics.accuracy_score(y_test, y_pred))\n",
        "print(\"Precision:\", metrics.precision_score(y_test, y_pred))\n",
        "print(\"Recall:\", metrics.recall_score(y_test, y_pred))"
      ],
      "id": "x0aiT74iBzqK"
    },
    {
      "cell_type": "markdown",
      "metadata": {
        "id": "ndLzAk3pBzqK"
      },
      "source": [
        "Well, you got a classification rate of 80%, considered as good accuracy.\n",
        "\n",
        "Precision: Precision is about being precise, i.e., how accurate your model is. In other words, you can say, when a model makes a prediction, how often it is correct. In your prediction case, when your Logistic Regression model predicted patients are going to suffer from diabetes, that patients have 76% of the time.\n",
        "\n",
        "Recall: If there are patients who have diabetes in the test set and your Logistic Regression model can identify it 58% of the time.\n",
        "\n",
        "#### ROC Curve\n",
        "\n",
        "Receiver Operating Characteristic(ROC) curve is a plot of the true positive rate against the false positive rate. It shows the tradeoff between sensitivity and specificity.\n"
      ],
      "id": "ndLzAk3pBzqK"
    },
    {
      "cell_type": "code",
      "execution_count": 12,
      "metadata": {
        "lines_to_next_cell": 2,
        "colab": {
          "base_uri": "https://localhost:8080/",
          "height": 265
        },
        "id": "VdnYRLg4BzqK",
        "outputId": "9328d69b-578b-428e-b3b6-4b3a261b460b"
      },
      "outputs": [
        {
          "output_type": "display_data",
          "data": {
            "text/plain": [
              "<Figure size 432x288 with 1 Axes>"
            ],
            "image/png": "[encoded data removed]"
          },
          "metadata": {
            "needs_background": "light"
          }
        }
      ],
      "source": [
        "y_pred_proba = logreg.predict_proba(X_test)[::,1]\n",
        "fpr, tpr, _ = metrics.roc_curve(y_test,  y_pred_proba)\n",
        "auc = metrics.roc_auc_score(y_test, y_pred_proba)\n",
        "\n",
        "plt.plot(fpr,tpr,label=\"data 1, auc=\"+str(auc))\n",
        "plt.legend(loc=4)\n",
        "plt.show()"
      ],
      "id": "VdnYRLg4BzqK"
    },
    {
      "cell_type": "markdown",
      "metadata": {
        "id": "GyY8lLZ8BzqK"
      },
      "source": [
        "AUC score for the case is 0.86. AUC score 1 represents perfect classifier, and 0.5 represents a worthless classifier.\n",
        "\n",
        "### Advantages\n",
        "\n",
        "Because of its efficient and straightforward nature, doesn't require high computation power, easy to implement, easily interpretable, used widely by data analyst and scientist.  Also, it doesn't require scaling of features. Logistic regression provides a probability score for observations.\n",
        "\n",
        "### Disadvantages\n",
        "\n",
        "Logistic regression is not able to handle a large number of categorical features/variables. It is vulnerable to overfitting. Also, can't solve the non-linear problem with the logistic regression that is why it requires a transformation of non-linear features. Logistic regression will not perform well with independent variables that are not correlated to the target variable and are very similar or correlated to each other.\n",
        "\n",
        "### Conclusion\n",
        "\n",
        "In this tutorial, you covered a lot of details about Logistic Regression. You have learned what the logistic regression is, how to build respective models, how to visualize results and some of the theoretical background information. Also, you covered some basic concepts such as the sigmoid function, maximum likelihood, confusion matrix, ROC curve.\n",
        "\n",
        "Hopefully, you can now utilize the Logistic Regression technique to analyze your own datasets. Thanks for reading this tutorial!\n",
        "\n",
        "If you would like to learn more about Logistic Regression, take DataCamp's [Foundations of Predictive Analytics in Python (Part 1)](https://www.datacamp.com/courses/foundations-of-predictive-analytics-in-python-part-1) course."
      ],
      "id": "GyY8lLZ8BzqK"
    }
  ],
  "metadata": {
    "jupytext": {
      "cell_metadata_filter": "-all",
      "main_language": "python",
      "notebook_metadata_filter": "-all"
    },
    "kernelspec": {
      "display_name": "Python 3",
      "language": "python",
      "name": "python3"
    },
    "language_info": {
      "codemirror_mode": {
        "name": "ipython",
        "version": 3
      },
      "file_extension": ".py",
      "mimetype": "text/x-python",
      "name": "python",
      "nbconvert_exporter": "python",
      "pygments_lexer": "ipython3",
      "version": "3.7.2"
    },
    "colab": {
      "name": "week6_logistic_regression.ipynb",
      "provenance": [],
      "include_colab_link": true
    }
  },
  "nbformat": 4,
  "nbformat_minor": 5
}